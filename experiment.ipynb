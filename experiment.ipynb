{
 "cells": [
  {
   "cell_type": "code",
   "execution_count": 1,
   "metadata": {
    "nbpresent": {
     "id": "2d676ae2-a7dd-4e86-94c4-b28350909aed"
    }
   },
   "outputs": [
    {
     "name": "stderr",
     "output_type": "stream",
     "text": [
      "Using TensorFlow backend.\n"
     ]
    }
   ],
   "source": [
    "import os\n",
    "import numpy as np\n",
    "import pandas as pd\n",
    "import joblib\n",
    "import pickle\n",
    "\n",
    "from scipy.io.wavfile import read as wav_read\n",
    "\n",
    "from sklearn.metrics import accuracy_score, roc_auc_score\n",
    "from sklearn.ensemble import RandomForestClassifier\n",
    "from sklearn.model_selection import StratifiedKFold\n",
    "\n",
    "from keras.layers import Convolution1D, Dense, Dropout, Input, concatenate, GlobalMaxPooling1D\n",
    "from keras.models import Model, load_model, save_model\n",
    "from keras.optimizers import Adam\n",
    "from keras.callbacks import EarlyStopping, ModelCheckpoint\n",
    "\n",
    "from utils import *"
   ]
  },
  {
   "cell_type": "code",
   "execution_count": 2,
   "metadata": {
    "collapsed": true
   },
   "outputs": [],
   "source": [
    "SIGNAL_PATH = '../new_data/'\n",
    "MODEL_PATH  = 'models/'\n",
    "INPUT_PATH  = 'data/'\n",
    "\n",
    "if not os.path.isdir(MODEL_PATH):\n",
    "    os.makedirs(MODEL_PATH)\n",
    "    \n",
    "if not os.path.isdir(INPUT_PATH):\n",
    "    os.makedirs(INPUT_PATH)"
   ]
  },
  {
   "cell_type": "markdown",
   "metadata": {},
   "source": [
    "Read data"
   ]
  },
  {
   "cell_type": "code",
   "execution_count": 3,
   "metadata": {
    "collapsed": true
   },
   "outputs": [],
   "source": [
    "people = []\n",
    "signals = []\n",
    "labels = []\n",
    "\n",
    "f = open(SIGNAL_PATH + 'list.txt', 'r')\n",
    "l = f.readline()\n",
    "l = f.readline().strip().split('\\t')\n",
    "\n",
    "while l:\n",
    "    if not l[0]:\n",
    "        break\n",
    "    people_id = int(l[0])\n",
    "    label = int(l[1])\n",
    "    people_signals = l[5:]\n",
    "    tmp_signals = []\n",
    "    for sig in people_signals:\n",
    "        if label:\n",
    "            pwd = SIGNAL_PATH + 'True/filtered/' + sig + '-1K.wav'\n",
    "        else:\n",
    "            pwd = SIGNAL_PATH + 'False/filtered/' + sig + '-1K.wav'\n",
    "        w = wav_read(pwd)[1]\n",
    "        if len(w) < 20000:\n",
    "            # filter some short signals\n",
    "            continue\n",
    "        tmp_signals.append(w)\n",
    "    signals.append(tmp_signals)\n",
    "    people.append(people_id)\n",
    "    labels.append(label)\n",
    "    l = f.readline().strip().split('\\t')\n",
    "    \n",
    "labels = np.array(labels)"
   ]
  },
  {
   "cell_type": "markdown",
   "metadata": {},
   "source": [
    "Fix size and seeds"
   ]
  },
  {
   "cell_type": "code",
   "execution_count": 4,
   "metadata": {
    "collapsed": true
   },
   "outputs": [],
   "source": [
    "window = 1000\n",
    "step   = 500\n",
    "\n",
    "prep_size = 150\n",
    "fft_size  = 500\n",
    "wv_size   = 1010\n",
    "\n",
    "slice_len = 1000"
   ]
  },
  {
   "cell_type": "code",
   "execution_count": 5,
   "metadata": {
    "collapsed": true
   },
   "outputs": [],
   "source": [
    "n_iter = 5\n",
    "n_fold = 5"
   ]
  },
  {
   "cell_type": "code",
   "execution_count": 6,
   "metadata": {
    "collapsed": true
   },
   "outputs": [],
   "source": [
    "seeds_nn_init = [34, 190, 405, 12, 23]\n",
    "seeds_nn_tr   = [120, 180, 222, 89, 130]\n",
    "seeds_ts      = [50, 11, 123, 911, 55]\n",
    "seeds_cv      = [345, 12, 100, 735, 90]\n",
    "seeds_rf      = [45, 90, 449, 100, 23]"
   ]
  },
  {
   "cell_type": "markdown",
   "metadata": {},
   "source": [
    "Split data for MCNN training. Second part will be used later in experiments."
   ]
  },
  {
   "cell_type": "code",
   "execution_count": 7,
   "metadata": {
    "scrolled": true
   },
   "outputs": [
    {
     "name": "stdout",
     "output_type": "stream",
     "text": [
      "start iter: 1\n",
      "mean target train/test: 0.489208633094 0.507142857143\n",
      "count signal train/test: 910 887\n",
      "start iter: 2\n",
      "mean target train/test: 0.496402877698 0.5\n",
      "count signal train/test: 1032 765\n",
      "start iter: 3\n",
      "mean target train/test: 0.510791366906 0.485714285714\n",
      "count signal train/test: 1008 789\n",
      "start iter: 4\n",
      "mean target train/test: 0.482014388489 0.514285714286\n",
      "count signal train/test: 847 950\n",
      "start iter: 5\n",
      "mean target train/test: 0.525179856115 0.471428571429\n",
      "count signal train/test: 812 985\n"
     ]
    }
   ],
   "source": [
    "for it in xrange(n_iter):\n",
    "    print 'start iter:', it+1\n",
    "    np.random.seed(seeds_nn_tr[it])\n",
    "    index = np.random.permutation(np.arange(len(signals)))\n",
    "    train_count  = int(len(index) * 0.5)\n",
    "    train_data   = [signals[i] for i in index[:train_count]]\n",
    "    train_labels = [labels[i] for i in index[:train_count]]\n",
    "    test_data    = [signals[i] for i in index[train_count:]]\n",
    "    test_labels  = [labels[i] for i in index[train_count:]]\n",
    "    print 'mean target train/test:', np.mean(train_labels), np.mean(test_labels)\n",
    "    print 'count signal train/test:', sum([len(x) for x in train_data]), sum([len(x) for x in test_data])\n",
    "    joblib.dump((train_data, test_data, train_labels, test_labels), \n",
    "                INPUT_PATH + 'data_iter_' + str(it))"
   ]
  },
  {
   "cell_type": "markdown",
   "metadata": {},
   "source": [
    "Train 5 MCNN for every train data."
   ]
  },
  {
   "cell_type": "code",
   "execution_count": 99,
   "metadata": {},
   "outputs": [
    {
     "name": "stdout",
     "output_type": "stream",
     "text": [
      "start iter: 1\n",
      "acc tr/val: 0.685000002384 0.66819999218\n",
      "start iter: 2\n",
      "acc tr/val: 0.708999997377 0.683000010252\n",
      "start iter: 3\n",
      "acc tr/val: 0.749599993229 0.679199999571\n",
      "start iter: 4\n",
      "acc tr/val: 0.727599990368 0.696399998665\n",
      "start iter: 5\n",
      "acc tr/val: 0.736799997091 0.686199998856\n"
     ]
    }
   ],
   "source": [
    "for it in xrange(n_iter):\n",
    "    print 'start iter:', it+1\n",
    "    train_data, test_data, train_labels, test_labels = joblib.load(INPUT_PATH + 'data_iter_' + str(it))\n",
    "        \n",
    "    np.random.seed(seeds_nn_init[it])\n",
    "    nn = make_network()\n",
    "    earlyStopping = EarlyStopping(monitor='val_acc', patience=10)\n",
    "    modelCheckpoing = ModelCheckpoint('tmp.hdf5', save_best_only=True, monitor='val_acc')\n",
    "    \n",
    "    nb_epoch        = 200\n",
    "    steps_per_epoch = 10\n",
    "    val_steps       = 10\n",
    "    batch_size      = 500\n",
    "\n",
    "    h = nn.fit_generator(generator=generator(batch_size=batch_size, slice_len=slice_len, data=train_data, labels=train_labels), \n",
    "                         validation_data=generator(batch_size=batch_size, slice_len=slice_len, data=test_data, labels=test_labels), \n",
    "                         steps_per_epoch=steps_per_epoch, \n",
    "                         epochs=nb_epoch, \n",
    "                         validation_steps=val_steps, \n",
    "                         callbacks=[earlyStopping, modelCheckpoing], \n",
    "                         verbose=0)\n",
    "    ind = np.argmax(h.history['val_acc'])\n",
    "    nn.load_weights('tmp.hdf5')\n",
    "    save_model(nn, MODEL_PATH + 'nn_iter_' + str(it))\n",
    "    print 'acc tr/val:', h.history['acc'][ind], h.history['val_acc'][ind]"
   ]
  },
  {
   "cell_type": "code",
   "execution_count": 8,
   "metadata": {
    "collapsed": true
   },
   "outputs": [],
   "source": [
    "result = {}\n",
    "for it in xrange(n_iter):\n",
    "    result[it] = {str(i): {} for i in xrange(n_fold)}"
   ]
  },
  {
   "cell_type": "markdown",
   "metadata": {},
   "source": [
    "Make all"
   ]
  },
  {
   "cell_type": "code",
   "execution_count": 55,
   "metadata": {},
   "outputs": [
    {
     "name": "stdout",
     "output_type": "stream",
     "text": [
      "start iter: 4\n",
      "start fold: 1\n",
      "random slice: 0.64834 0.6411 0.62896 0.66692\n",
      "avg probs: 0.655172413793 0.689655172414 0.655172413793 0.793103448276\n",
      "avg states: 0.620689655172 0.620689655172 0.51724137931\n",
      "\n",
      "start fold: 2\n",
      "random slice: 0.72976 0.63872 0.5927 0.66552\n",
      "avg probs: 0.793103448276 0.689655172414 0.620689655172 0.793103448276\n",
      "avg states: 0.586206896552 0.586206896552 0.51724137931\n",
      "\n",
      "start fold: 3\n",
      "random slice: 0.71846 0.71232 0.69698 0.61146\n",
      "avg probs: 0.75 0.75 0.75 0.607142857143\n",
      "avg states: 0.785714285714 0.892857142857 0.5\n",
      "\n",
      "start fold: 4\n",
      "random slice: 0.67252 0.66496 0.63598 0.6129\n",
      "avg probs: 0.740740740741 0.703703703704 0.703703703704 0.62962962963\n",
      "avg states: 0.666666666667 0.62962962963 0.518518518519\n",
      "\n",
      "start fold: 5\n",
      "random slice: 0.68318 0.69226 0.59904 0.65782\n",
      "avg probs: 0.703703703704 0.740740740741 0.62962962963 0.703703703704\n",
      "avg states: 0.703703703704 0.62962962963 0.518518518519\n",
      "\n"
     ]
    }
   ],
   "source": [
    "for it in xrange(n_iter):\n",
    "    print 'start iter:', it+1\n",
    "    train_data, test_data, train_labels, test_labels = joblib.load(INPUT_PATH + 'data_iter_' + str(it))\n",
    "    \n",
    "    # load network\n",
    "    nn = load_model(MODEL_PATH + 'nn_iter_' + str(it))\n",
    "\n",
    "    # make preprocess model with trained weights\n",
    "    weights = nn.get_weights()\n",
    "    preprocess = make_preprocess(weights)\n",
    "    \n",
    "    # split other part \n",
    "    cv = StratifiedKFold(n_splits=n_fold, shuffle=True, random_state=seeds_cv[it])\n",
    "    fold = 0\n",
    "    for tr, ts in cv.split(test_data, test_labels):\n",
    "        print 'start fold:', fold+1\n",
    "\n",
    "        train_data_2   = [test_data[t] for t in tr]\n",
    "        train_labels_2 = np.array([test_labels[t] for t in tr])\n",
    "        test_data_2    = [test_data[t] for t in ts]\n",
    "        test_labels_2  = np.array([test_labels[t] for t in ts])\n",
    "        \n",
    "        # random slice test\n",
    "        np.random.seed(seeds_ts[it])\n",
    "        X_tr_slice, y_tr = make_dataset(50000, train_data_2, train_labels_2)\n",
    "        X_ts_slice, y_ts = make_dataset(50000, test_data_2,  test_labels_2)\n",
    "        X_tr_preprocess = preprocess_dataset(X_tr_slice)\n",
    "        X_ts_preprocess = preprocess_dataset(X_ts_slice)\n",
    "        X_tr_fft = fft_dataset(X_tr_slice)\n",
    "        X_ts_fft = fft_dataset(X_ts_slice)\n",
    "        X_tr_wv = wv_preprocess(X_tr_slice)\n",
    "        X_ts_wv = wv_preprocess(X_ts_slice)\n",
    "        \n",
    "        pr = []\n",
    "        for j in xrange(len(X_ts_slice)):\n",
    "            pr.append(nn.predict(resample_slice(X_ts_slice[j]))[0][0])\n",
    "        pr = np.array(pr)\n",
    "        result[it][fold]['nn'] = calc_result(y_ts, pr)\n",
    "        \n",
    "        clf_prep = RandomForestClassifier(n_estimators=1000, criterion='entropy', n_jobs=-1, random_state=seeds_rf[it])\n",
    "        clf_prep.fit(X_tr_preprocess, y_tr)\n",
    "        pr = clf_prep.predict_proba(X_ts_preprocess)[:, 1]\n",
    "        result[it][fold]['prep'] = calc_result(y_ts, pr)\n",
    "        \n",
    "        clf_fft = RandomForestClassifier(n_estimators=1000, criterion='entropy', n_jobs=-1, random_state=seeds_rf[it])\n",
    "        clf_fft.fit(X_tr_fft, y_tr)\n",
    "        pr = clf_fft.predict_proba(X_ts_fft)[:, 1]\n",
    "        result[it][fold]['fft'] = calc_result(y_ts, pr)\n",
    "        \n",
    "        clf_wv = RandomForestClassifier(n_estimators=1000, criterion='entropy', n_jobs=-1, random_state=seeds_rf[it])\n",
    "        clf_wv.fit(X_tr_wv, y_tr)\n",
    "        pr = clf_wv.predict_proba(X_ts_wv)[:, 1]\n",
    "        result[it][fold]['wv'] = calc_result(y_ts, pr)\n",
    "        \n",
    "        print 'random slice:', result[it][fold]['nn']['acc'], result[it][fold]['prep']['acc'], result[it][fold]['fft']['acc'], result[it][fold]['wv']['acc']\n",
    "        \n",
    "        # avg probabilities\n",
    "        pr_nn, pr_prep, pr_fft, pr_wv = [], [], [], []\n",
    "        for i in xrange(len(test_data_2)):\n",
    "            people_prob_nn, people_prob_prep, people_prob_fft, people_prob_wv = [], [], [], []\n",
    "            for j in xrange(len(test_data_2[i])):\n",
    "                data = np.vstack((test_data_2[i][j][:window*(len(test_data_2[i][j])/window)].reshape((-1, window)),\n",
    "                                  test_data_2[i][j][step:window*((len(test_data_2[i][j])-step)/window)+step].reshape((-1, window))))\n",
    "                data = preprocess_signal_all(data)\n",
    "                people_prob_nn.append(np.mean([nn.predict(resample_slice(data[y])) for y in xrange(len(data))]))\n",
    "                people_prob_prep.append(np.mean(clf_prep.predict_proba(preprocess_dataset(data))[:, 1]))\n",
    "                people_prob_fft.append(np.mean(clf_fft.predict_proba(fft_dataset(data))[:, 1]))\n",
    "                people_prob_wv.append(np.mean(clf_wv.predict_proba(wv_preprocess(data))[:, 1]))\n",
    "            pr_nn.append(np.mean(people_prob_nn))\n",
    "            pr_prep.append(np.mean(people_prob_prep))\n",
    "            pr_fft.append(np.mean(people_prob_fft))\n",
    "            pr_wv.append(np.mean(people_prob_wv))\n",
    "        result[it][fold]['nn_avg_prob']   = calc_result(test_labels_2, np.array(pr_nn))\n",
    "        result[it][fold]['prep_avg_prob'] = calc_result(test_labels_2, np.array(pr_prep))\n",
    "        result[it][fold]['fft_avg_prob']  = calc_result(test_labels_2, np.array(pr_fft))\n",
    "        result[it][fold]['wv_avg_prob']   = calc_result(test_labels_2, np.array(pr_wv))\n",
    "        print 'avg probs:', result[it][fold]['nn_avg_prob']['acc'], result[it][fold]['prep_avg_prob']['acc'], result[it][fold]['fft_avg_prob']['acc'], result[it][fold]['wv_avg_prob']['acc']\n",
    "        \n",
    "        # avg states\n",
    "        pr_prep, pr_fft, pr_wv = [], [], []\n",
    "        for i in xrange(len(test_data_2)):\n",
    "            people_prob_prep, people_prob_fft, people_prob_wv = [], [], []\n",
    "            for j in xrange(len(test_data_2[i])):\n",
    "                data = np.vstack((test_data_2[i][j][:window*(len(test_data_2[i][j])/window)].reshape((-1, window)),\n",
    "                                  test_data_2[i][j][step:window*((len(test_data_2[i][j])-step)/window)+step].reshape((-1, window))))\n",
    "                data = preprocess_signal_all(data)\n",
    "                people_prob_prep.append(clf_prep.predict_proba(np.mean(preprocess_dataset(data), axis=0).reshape((-1, prep_size)))[:, 1][0])\n",
    "                people_prob_fft.append(clf_fft.predict_proba(np.mean(fft_dataset(data), axis=0).reshape((-1, fft_size)))[:, 1][0])\n",
    "                people_prob_wv.append(clf_wv.predict_proba(np.mean(wv_preprocess(data), axis=0).reshape((-1, wv_size)))[:, 1][0])\n",
    "            pr_prep.append(np.mean(people_prob_prep))\n",
    "            pr_fft.append(np.mean(people_prob_fft))\n",
    "            pr_wv.append(np.mean(people_prob_wv))\n",
    "        result[it][fold]['prep_avg_states'] = calc_result(test_labels_2, np.array(pr_prep))\n",
    "        result[it][fold]['fft_avg_states']  = calc_result(test_labels_2, np.array(pr_fft))\n",
    "        result[it][fold]['wv_avg_states']   = calc_result(test_labels_2, np.array(pr_wv))\n",
    "        print 'avg states:', result[it][fold]['prep_avg_states']['acc'], result[it][fold]['fft_avg_states']['acc'], result[it][fold]['wv_avg_states']['acc']\n",
    "        \n",
    "        fold += 1\n",
    "        pickle.dump(result, open('result.pkl', 'wb'))\n",
    "        print ''"
   ]
  },
  {
   "cell_type": "markdown",
   "metadata": {},
   "source": [
    "Results"
   ]
  },
  {
   "cell_type": "code",
   "execution_count": 10,
   "metadata": {},
   "outputs": [
    {
     "data": {
      "text/html": [
       "<div>\n",
       "<table border=\"1\" class=\"dataframe\">\n",
       "  <thead>\n",
       "    <tr style=\"text-align: right;\">\n",
       "      <th></th>\n",
       "      <th>AUC</th>\n",
       "      <th>Accuracy</th>\n",
       "      <th>Max accuracy</th>\n",
       "    </tr>\n",
       "  </thead>\n",
       "  <tbody>\n",
       "    <tr>\n",
       "      <th>FFT + RF</th>\n",
       "      <td>0.689146</td>\n",
       "      <td>0.636525</td>\n",
       "      <td>0.643330</td>\n",
       "    </tr>\n",
       "    <tr>\n",
       "      <th>WV + RF</th>\n",
       "      <td>0.701787</td>\n",
       "      <td>0.642387</td>\n",
       "      <td>0.657521</td>\n",
       "    </tr>\n",
       "    <tr>\n",
       "      <th>MCNN</th>\n",
       "      <td>0.754368</td>\n",
       "      <td>0.680747</td>\n",
       "      <td>0.691955</td>\n",
       "    </tr>\n",
       "    <tr>\n",
       "      <th>MCNN + RF</th>\n",
       "      <td>0.739687</td>\n",
       "      <td>0.670424</td>\n",
       "      <td>0.679658</td>\n",
       "    </tr>\n",
       "  </tbody>\n",
       "</table>\n",
       "</div>"
      ],
      "text/plain": [
       "                AUC  Accuracy  Max accuracy\n",
       "FFT + RF   0.689146  0.636525      0.643330\n",
       "WV + RF    0.701787  0.642387      0.657521\n",
       "MCNN       0.754368  0.680747      0.691955\n",
       "MCNN + RF  0.739687  0.670424      0.679658"
      ]
     },
     "execution_count": 10,
     "metadata": {},
     "output_type": "execute_result"
    }
   ],
   "source": [
    "table_result = pd.DataFrame(0, index=['FFT + RF', 'WV + RF', 'MCNN', 'MCNN + RF'], \n",
    "                            columns=['AUC', 'Accuracy', 'Max accuracy'])\n",
    "\n",
    "tmp = exctract_result(result, 'nn')\n",
    "table_result.ix['MCNN', 'AUC']          = tmp['auc']\n",
    "table_result.ix['MCNN', 'Accuracy']     = tmp['acc']\n",
    "table_result.ix['MCNN', 'Max accuracy'] = tmp['max_acc']\n",
    "\n",
    "tmp = exctract_result(result, 'prep')\n",
    "table_result.ix['MCNN + RF', 'AUC']          = tmp['auc']\n",
    "table_result.ix['MCNN + RF', 'Accuracy']     = tmp['acc']\n",
    "table_result.ix['MCNN + RF', 'Max accuracy'] = tmp['max_acc']\n",
    "\n",
    "tmp = exctract_result(result, 'fft')\n",
    "table_result.ix['FFT + RF', 'AUC']          = tmp['auc']\n",
    "table_result.ix['FFT + RF', 'Accuracy']     = tmp['acc']\n",
    "table_result.ix['FFT + RF', 'Max accuracy'] = tmp['max_acc']\n",
    "\n",
    "tmp = exctract_result(result, 'wv')\n",
    "table_result.ix['WV + RF', 'AUC']          = tmp['auc']\n",
    "table_result.ix['WV + RF', 'Accuracy']     = tmp['acc']\n",
    "table_result.ix['WV + RF', 'Max accuracy'] = tmp['max_acc']\n",
    "\n",
    "table_result"
   ]
  },
  {
   "cell_type": "code",
   "execution_count": 11,
   "metadata": {},
   "outputs": [
    {
     "data": {
      "text/html": [
       "<div>\n",
       "<table border=\"1\" class=\"dataframe\">\n",
       "  <thead>\n",
       "    <tr style=\"text-align: right;\">\n",
       "      <th></th>\n",
       "      <th>AUC</th>\n",
       "      <th>Accuracy</th>\n",
       "      <th>Max accuracy</th>\n",
       "    </tr>\n",
       "  </thead>\n",
       "  <tbody>\n",
       "    <tr>\n",
       "      <th>FFT + RF</th>\n",
       "      <td>0.751713</td>\n",
       "      <td>0.679951</td>\n",
       "      <td>0.701136</td>\n",
       "    </tr>\n",
       "    <tr>\n",
       "      <th>WV + RF</th>\n",
       "      <td>0.767171</td>\n",
       "      <td>0.699909</td>\n",
       "      <td>0.723832</td>\n",
       "    </tr>\n",
       "    <tr>\n",
       "      <th>MCNN</th>\n",
       "      <td>0.816246</td>\n",
       "      <td>0.712474</td>\n",
       "      <td>0.738491</td>\n",
       "    </tr>\n",
       "    <tr>\n",
       "      <th>MCNN + RF</th>\n",
       "      <td>0.811204</td>\n",
       "      <td>0.716933</td>\n",
       "      <td>0.756520</td>\n",
       "    </tr>\n",
       "  </tbody>\n",
       "</table>\n",
       "</div>"
      ],
      "text/plain": [
       "                AUC  Accuracy  Max accuracy\n",
       "FFT + RF   0.751713  0.679951      0.701136\n",
       "WV + RF    0.767171  0.699909      0.723832\n",
       "MCNN       0.816246  0.712474      0.738491\n",
       "MCNN + RF  0.811204  0.716933      0.756520"
      ]
     },
     "execution_count": 11,
     "metadata": {},
     "output_type": "execute_result"
    }
   ],
   "source": [
    "table_result = pd.DataFrame(0, index=['FFT + RF', 'WV + RF', 'MCNN', 'MCNN + RF'], \n",
    "                            columns=['AUC', 'Accuracy', 'Max accuracy'])\n",
    "\n",
    "tmp = exctract_result(result, 'nn_avg_prob')\n",
    "table_result.ix['MCNN', 'AUC']          = tmp['auc']\n",
    "table_result.ix['MCNN', 'Accuracy']     = tmp['acc']\n",
    "table_result.ix['MCNN', 'Max accuracy'] = tmp['max_acc']\n",
    "\n",
    "tmp = exctract_result(result, 'prep_avg_prob')\n",
    "table_result.ix['MCNN + RF', 'AUC']          = tmp['auc']\n",
    "table_result.ix['MCNN + RF', 'Accuracy']     = tmp['acc']\n",
    "table_result.ix['MCNN + RF', 'Max accuracy'] = tmp['max_acc']\n",
    "\n",
    "tmp = exctract_result(result, 'fft_avg_prob')\n",
    "table_result.ix['FFT + RF', 'AUC']          = tmp['auc']\n",
    "table_result.ix['FFT + RF', 'Accuracy']     = tmp['acc']\n",
    "table_result.ix['FFT + RF', 'Max accuracy'] = tmp['max_acc']\n",
    "\n",
    "tmp = exctract_result(result, 'wv_avg_prob')\n",
    "table_result.ix['WV + RF', 'AUC']          = tmp['auc']\n",
    "table_result.ix['WV + RF', 'Accuracy']     = tmp['acc']\n",
    "table_result.ix['WV + RF', 'Max accuracy'] = tmp['max_acc']\n",
    "\n",
    "table_result"
   ]
  },
  {
   "cell_type": "code",
   "execution_count": 12,
   "metadata": {},
   "outputs": [
    {
     "data": {
      "text/html": [
       "<div>\n",
       "<table border=\"1\" class=\"dataframe\">\n",
       "  <thead>\n",
       "    <tr style=\"text-align: right;\">\n",
       "      <th></th>\n",
       "      <th>AUC</th>\n",
       "      <th>Accuracy</th>\n",
       "      <th>Max accuracy</th>\n",
       "    </tr>\n",
       "  </thead>\n",
       "  <tbody>\n",
       "    <tr>\n",
       "      <th>FFT + RF</th>\n",
       "      <td>0.750503</td>\n",
       "      <td>0.674733</td>\n",
       "      <td>0.684168</td>\n",
       "    </tr>\n",
       "    <tr>\n",
       "      <th>WV + RF</th>\n",
       "      <td>0.485195</td>\n",
       "      <td>0.505619</td>\n",
       "      <td>0.564791</td>\n",
       "    </tr>\n",
       "    <tr>\n",
       "      <th>MCNN + RF</th>\n",
       "      <td>0.775216</td>\n",
       "      <td>0.678878</td>\n",
       "      <td>0.703604</td>\n",
       "    </tr>\n",
       "  </tbody>\n",
       "</table>\n",
       "</div>"
      ],
      "text/plain": [
       "                AUC  Accuracy  Max accuracy\n",
       "FFT + RF   0.750503  0.674733      0.684168\n",
       "WV + RF    0.485195  0.505619      0.564791\n",
       "MCNN + RF  0.775216  0.678878      0.703604"
      ]
     },
     "execution_count": 12,
     "metadata": {},
     "output_type": "execute_result"
    }
   ],
   "source": [
    "table_result = pd.DataFrame(0, index=['FFT + RF', 'WV + RF', 'MCNN + RF'], \n",
    "                            columns=['AUC', 'Accuracy', 'Max accuracy'])\n",
    "\n",
    "tmp = exctract_result(result, 'prep_avg_states')\n",
    "table_result.ix['MCNN + RF', 'AUC']          = tmp['auc']\n",
    "table_result.ix['MCNN + RF', 'Accuracy']     = tmp['acc']\n",
    "table_result.ix['MCNN + RF', 'Max accuracy'] = tmp['max_acc']\n",
    "\n",
    "tmp = exctract_result(result, 'fft_avg_states')\n",
    "table_result.ix['FFT + RF', 'AUC']          = tmp['auc']\n",
    "table_result.ix['FFT + RF', 'Accuracy']     = tmp['acc']\n",
    "table_result.ix['FFT + RF', 'Max accuracy'] = tmp['max_acc']\n",
    "\n",
    "tmp = exctract_result(result, 'wv_avg_states')\n",
    "table_result.ix['WV + RF', 'AUC']          = tmp['auc']\n",
    "table_result.ix['WV + RF', 'Accuracy']     = tmp['acc']\n",
    "table_result.ix['WV + RF', 'Max accuracy'] = tmp['max_acc']\n",
    "\n",
    "table_result"
   ]
  },
  {
   "cell_type": "markdown",
   "metadata": {
    "collapsed": true
   },
   "source": [
    "### DTW + kNN"
   ]
  },
  {
   "cell_type": "markdown",
   "metadata": {},
   "source": [
    "Because of speed."
   ]
  },
  {
   "cell_type": "code",
   "execution_count": 51,
   "metadata": {
    "collapsed": true
   },
   "outputs": [],
   "source": [
    "import mlpy # not from pip\n",
    "import multiprocessing"
   ]
  },
  {
   "cell_type": "code",
   "execution_count": 15,
   "metadata": {
    "collapsed": true
   },
   "outputs": [],
   "source": [
    "def knn_predict_one(r):\n",
    "    X_train, y_train, x, n_neighbors = r\n",
    "    dist = [mlpy.dtw_std(y, x) for y in X_train]\n",
    "    inds = np.argsort(dist)[:n_neighbors]\n",
    "    return np.mean(y_train[inds])\n",
    "\n",
    "def knn_predict(X_train, y_train, X_test, n_neighbors=5):\n",
    "    pool = multiprocessing.Pool()\n",
    "    pred = pool.map(knn_predict_one, [(X_train, y_train, x, n_neighbors) for x in X_test])\n",
    "    pool.close()\n",
    "    pool.join()\n",
    "    return np.array(pred)"
   ]
  },
  {
   "cell_type": "markdown",
   "metadata": {},
   "source": [
    "Make datasets"
   ]
  },
  {
   "cell_type": "code",
   "execution_count": 32,
   "metadata": {
    "collapsed": true
   },
   "outputs": [],
   "source": [
    "np.random.seed(78)\n",
    "X_train, y_train = make_dataset(10000, train_data, train_labels)\n",
    "X_test,  y_test  = make_dataset(1000, test_data, test_labels)"
   ]
  },
  {
   "cell_type": "code",
   "execution_count": 33,
   "metadata": {
    "scrolled": true
   },
   "outputs": [
    {
     "name": "stdout",
     "output_type": "stream",
     "text": [
      "CPU times: user 20.1 s, sys: 8.34 s, total: 28.4 s\n",
      "Wall time: 8h 32min 45s\n"
     ]
    }
   ],
   "source": [
    "%%time\n",
    "y_pr = knn_predict(X_train, y_train, X_test)"
   ]
  },
  {
   "cell_type": "markdown",
   "metadata": {},
   "source": [
    "AUC"
   ]
  },
  {
   "cell_type": "code",
   "execution_count": 34,
   "metadata": {},
   "outputs": [
    {
     "data": {
      "text/plain": [
       "0.66828172108538064"
      ]
     },
     "execution_count": 34,
     "metadata": {},
     "output_type": "execute_result"
    }
   ],
   "source": [
    "roc_auc_score(y_test, y_pr)"
   ]
  },
  {
   "cell_type": "markdown",
   "metadata": {},
   "source": [
    "Accuracy"
   ]
  },
  {
   "cell_type": "code",
   "execution_count": 35,
   "metadata": {},
   "outputs": [
    {
     "data": {
      "text/plain": [
       "0.60899999999999999"
      ]
     },
     "execution_count": 35,
     "metadata": {},
     "output_type": "execute_result"
    }
   ],
   "source": [
    "accuracy_score(y_test, y_pr > 0.5)"
   ]
  },
  {
   "cell_type": "markdown",
   "metadata": {},
   "source": [
    "Max accuracy"
   ]
  },
  {
   "cell_type": "code",
   "execution_count": 37,
   "metadata": {},
   "outputs": [
    {
     "data": {
      "text/plain": [
       "0.629"
      ]
     },
     "execution_count": 37,
     "metadata": {},
     "output_type": "execute_result"
    }
   ],
   "source": [
    "acc_1, thr_1, acc_2, thr_2 = calc_max_acc(y_test, y_pr)\n",
    "(acc_1 + acc_2) / 2.0"
   ]
  }
 ],
 "metadata": {
  "anaconda-cloud": {},
  "kernelspec": {
   "display_name": "Python [conda root]",
   "language": "python",
   "name": "conda-root-py"
  },
  "language_info": {
   "codemirror_mode": {
    "name": "ipython",
    "version": 2
   },
   "file_extension": ".py",
   "mimetype": "text/x-python",
   "name": "python",
   "nbconvert_exporter": "python",
   "pygments_lexer": "ipython2",
   "version": "2.7.12"
  },
  "nbpresent": {
   "slides": {
    "009837e3-addf-44a2-a08c-c30d90065e0a": {
     "id": "009837e3-addf-44a2-a08c-c30d90065e0a",
     "prev": "1aebb01c-79ea-4a4d-b927-7aceaea4bc27",
     "regions": {
      "9875a4ec-5339-4ee9-9e17-20d424622535": {
       "attrs": {
        "height": 0.8,
        "width": 0.8,
        "x": 0.1,
        "y": 0.1
       },
       "content": {
        "cell": "e6f6aef9-077e-4494-8cf1-b901954ef29c",
        "part": "whole"
       },
       "id": "9875a4ec-5339-4ee9-9e17-20d424622535"
      }
     }
    },
    "01455fc5-9bac-460e-b727-43687abf1905": {
     "id": "01455fc5-9bac-460e-b727-43687abf1905",
     "prev": "c7d6f95d-68ce-43d2-96e8-d8985e1ff974",
     "regions": {
      "bc185a9d-2512-47e0-8fc0-71c46963dea2": {
       "attrs": {
        "height": 0.8,
        "width": 0.8,
        "x": 0.1,
        "y": 0.1
       },
       "content": {
        "cell": "3214eb29-b66e-48b5-a616-b19e3d040140",
        "part": "whole"
       },
       "id": "bc185a9d-2512-47e0-8fc0-71c46963dea2"
      }
     }
    },
    "061c71ff-5b73-4b3f-81af-a49cb0424fd4": {
     "id": "061c71ff-5b73-4b3f-81af-a49cb0424fd4",
     "prev": "ff717883-6334-4743-8898-7c038d1adab6",
     "regions": {
      "31fe6757-bcd4-4a3f-89e7-c14b9436d0ea": {
       "attrs": {
        "height": 0.8,
        "width": 0.8,
        "x": 0.1,
        "y": 0.1
       },
       "content": {
        "cell": "8d4d49c2-9c5e-46aa-99ce-daee64311f9a",
        "part": "whole"
       },
       "id": "31fe6757-bcd4-4a3f-89e7-c14b9436d0ea"
      }
     }
    },
    "15f4edd6-5bc3-4f1e-8a23-f4089d6b7e4a": {
     "id": "15f4edd6-5bc3-4f1e-8a23-f4089d6b7e4a",
     "prev": "67a5fe14-016e-4169-996c-b9cd4d52a312",
     "regions": {
      "3f2fc629-c14f-41a1-810e-a2038ed9564e": {
       "attrs": {
        "height": 0.8,
        "width": 0.8,
        "x": 0.1,
        "y": 0.1
       },
       "content": {
        "cell": "05fbec9f-a77d-4265-93bb-bba71bb53fa6",
        "part": "whole"
       },
       "id": "3f2fc629-c14f-41a1-810e-a2038ed9564e"
      }
     }
    },
    "1aebb01c-79ea-4a4d-b927-7aceaea4bc27": {
     "id": "1aebb01c-79ea-4a4d-b927-7aceaea4bc27",
     "prev": "e7fbcae0-1e27-424f-b807-7b49c5f0bb2d",
     "regions": {
      "849b4028-4f4c-4d33-b54c-6478dc081142": {
       "attrs": {
        "height": 0.8,
        "width": 0.8,
        "x": 0.1,
        "y": 0.1
       },
       "content": {
        "cell": "20bb87b4-e51f-4472-a4cb-d0b529d21adc",
        "part": "whole"
       },
       "id": "849b4028-4f4c-4d33-b54c-6478dc081142"
      }
     }
    },
    "271178f4-f397-4d55-b14e-305ecbc6aec4": {
     "id": "271178f4-f397-4d55-b14e-305ecbc6aec4",
     "prev": "ce955336-3a9b-4586-bc64-31f4617f4e06",
     "regions": {
      "d9eb35da-cf97-4324-bccc-19777f8a6c49": {
       "attrs": {
        "height": 0.8,
        "width": 0.8,
        "x": 0.1,
        "y": 0.1
       },
       "content": {
        "cell": "5af6b2d5-054a-4683-8d7a-c6c1c0316bdb",
        "part": "whole"
       },
       "id": "d9eb35da-cf97-4324-bccc-19777f8a6c49"
      }
     }
    },
    "2c94fed0-3ee5-4803-871c-bb48bcd07bd4": {
     "id": "2c94fed0-3ee5-4803-871c-bb48bcd07bd4",
     "prev": "c279c79a-d219-4ef1-aa0d-20552dba39eb",
     "regions": {
      "98827d7a-c41e-4e98-9042-394f6d4691f2": {
       "attrs": {
        "height": 0.8,
        "width": 0.8,
        "x": 0.1,
        "y": 0.1
       },
       "content": {
        "cell": "cce063a6-de68-4318-b7d5-e8c2d92c9dc3",
        "part": "whole"
       },
       "id": "98827d7a-c41e-4e98-9042-394f6d4691f2"
      }
     }
    },
    "3617b6cf-bfb5-49f7-9113-edb57d0f0eb2": {
     "id": "3617b6cf-bfb5-49f7-9113-edb57d0f0eb2",
     "prev": "3806d146-a79e-403b-a13f-3924b110d347",
     "regions": {
      "094ede8c-af24-4c4f-8509-2d1b02c88c37": {
       "attrs": {
        "height": 0.8,
        "width": 0.8,
        "x": 0.1,
        "y": 0.1
       },
       "content": {
        "cell": "b78b542d-5501-4827-a305-16ed8d770884",
        "part": "whole"
       },
       "id": "094ede8c-af24-4c4f-8509-2d1b02c88c37"
      }
     }
    },
    "376e8acd-692c-4179-b06d-3827df6c7c2e": {
     "id": "376e8acd-692c-4179-b06d-3827df6c7c2e",
     "prev": "d65f8f7b-c036-4613-ac6b-fbdfa48c44c9",
     "regions": {
      "acff41e1-747c-4595-9fac-d0a89d16ae54": {
       "attrs": {
        "height": 0.8,
        "width": 0.8,
        "x": 0.1,
        "y": 0.1
       },
       "content": {
        "cell": "1d02bebb-e028-4535-b4cc-81ac345812f7",
        "part": "whole"
       },
       "id": "acff41e1-747c-4595-9fac-d0a89d16ae54"
      }
     }
    },
    "3806d146-a79e-403b-a13f-3924b110d347": {
     "id": "3806d146-a79e-403b-a13f-3924b110d347",
     "prev": "7252bca0-66d7-4fbb-8321-20cf7d9e3b0f",
     "regions": {
      "6f9953a6-2529-40ca-a686-4274b5edb8a8": {
       "attrs": {
        "height": 0.8,
        "width": 0.8,
        "x": 0.1,
        "y": 0.1
       },
       "content": {
        "cell": "c43f6845-56f8-4574-a55f-ed5acd63dae1",
        "part": "whole"
       },
       "id": "6f9953a6-2529-40ca-a686-4274b5edb8a8"
      }
     }
    },
    "3d850da8-f42b-4108-a900-e088d63b1dc8": {
     "id": "3d850da8-f42b-4108-a900-e088d63b1dc8",
     "prev": "d5bdec55-795f-4381-8196-7942777e289f",
     "regions": {
      "6fad1003-b274-4840-a76a-1658f89d7fa6": {
       "attrs": {
        "height": 0.8,
        "width": 0.8,
        "x": 0.1,
        "y": 0.1
       },
       "content": {
        "cell": "3f62233b-47b6-45a8-aca6-80a7f8d55d5d",
        "part": "whole"
       },
       "id": "6fad1003-b274-4840-a76a-1658f89d7fa6"
      }
     }
    },
    "43930c45-0359-4df2-a449-ffc2f45b17dd": {
     "id": "43930c45-0359-4df2-a449-ffc2f45b17dd",
     "prev": "e1029079-2b6f-4040-bf4f-df8c247dbcf8",
     "regions": {
      "a49794d5-45a0-4dc1-91e0-da50b630e531": {
       "attrs": {
        "height": 0.8,
        "width": 0.8,
        "x": 0.1,
        "y": 0.1
       },
       "content": {
        "cell": "176f29fb-e893-4e04-b0c5-6bd69e2d4efc",
        "part": "whole"
       },
       "id": "a49794d5-45a0-4dc1-91e0-da50b630e531"
      }
     }
    },
    "50d80c86-8b7b-44f3-9913-95f0cd7689ce": {
     "id": "50d80c86-8b7b-44f3-9913-95f0cd7689ce",
     "prev": "f71a9548-4787-4129-8563-b940466e83d5",
     "regions": {
      "6a2bc8d8-8880-43b6-ae37-ec2c72ded8f8": {
       "attrs": {
        "height": 0.8,
        "width": 0.8,
        "x": 0.1,
        "y": 0.1
       },
       "content": {
        "cell": "8d395f27-fabc-4108-8f49-0e8e9440b5ea",
        "part": "whole"
       },
       "id": "6a2bc8d8-8880-43b6-ae37-ec2c72ded8f8"
      }
     }
    },
    "5348969b-2172-4189-9c89-dd652f448702": {
     "id": "5348969b-2172-4189-9c89-dd652f448702",
     "prev": "061c71ff-5b73-4b3f-81af-a49cb0424fd4",
     "regions": {
      "7fb80213-557b-4b73-9a76-d3d9d15aebe7": {
       "attrs": {
        "height": 0.8,
        "width": 0.8,
        "x": 0.1,
        "y": 0.1
       },
       "content": {
        "cell": "c1affcd6-423f-4f5c-879f-7a8d5fc30e56",
        "part": "whole"
       },
       "id": "7fb80213-557b-4b73-9a76-d3d9d15aebe7"
      }
     }
    },
    "642c79e2-a0f2-42d2-9dcb-69a0e924dd12": {
     "id": "642c79e2-a0f2-42d2-9dcb-69a0e924dd12",
     "prev": "ebd44fdb-b3e3-4ed3-bdd5-6b399572c4dd",
     "regions": {
      "dff82544-703a-4c15-a28b-e671bf1c500f": {
       "attrs": {
        "height": 0.8,
        "width": 0.8,
        "x": 0.1,
        "y": 0.1
       },
       "content": {
        "cell": "83b6076b-5d54-4062-af38-c68f1a1da476",
        "part": "whole"
       },
       "id": "dff82544-703a-4c15-a28b-e671bf1c500f"
      }
     }
    },
    "67a5fe14-016e-4169-996c-b9cd4d52a312": {
     "id": "67a5fe14-016e-4169-996c-b9cd4d52a312",
     "prev": "50d80c86-8b7b-44f3-9913-95f0cd7689ce",
     "regions": {
      "ad8c0d74-7553-4ea2-b40b-d0dbf59a4863": {
       "attrs": {
        "height": 0.8,
        "width": 0.8,
        "x": 0.1,
        "y": 0.1
       },
       "content": {
        "cell": "95785b61-e9cf-411d-bddf-c7adc88e1933",
        "part": "whole"
       },
       "id": "ad8c0d74-7553-4ea2-b40b-d0dbf59a4863"
      }
     }
    },
    "6c5c2404-5fd8-41de-b780-6cec254dca7c": {
     "id": "6c5c2404-5fd8-41de-b780-6cec254dca7c",
     "prev": null,
     "regions": {
      "47783cda-b007-4c11-8571-52105e868437": {
       "attrs": {
        "height": 0.8,
        "width": 0.8,
        "x": 0.1,
        "y": 0.1
       },
       "content": {
        "cell": "2d676ae2-a7dd-4e86-94c4-b28350909aed",
        "part": "whole"
       },
       "id": "47783cda-b007-4c11-8571-52105e868437"
      }
     }
    },
    "7252bca0-66d7-4fbb-8321-20cf7d9e3b0f": {
     "id": "7252bca0-66d7-4fbb-8321-20cf7d9e3b0f",
     "prev": "01455fc5-9bac-460e-b727-43687abf1905",
     "regions": {
      "9c1c6789-9d01-4158-b863-847365e14def": {
       "attrs": {
        "height": 0.8,
        "width": 0.8,
        "x": 0.1,
        "y": 0.1
       },
       "content": {
        "cell": "28e7097a-bee2-4890-8453-7106d2f97960",
        "part": "whole"
       },
       "id": "9c1c6789-9d01-4158-b863-847365e14def"
      }
     }
    },
    "7bb66adf-8b52-40a4-aa6c-d4542f775cb2": {
     "id": "7bb66adf-8b52-40a4-aa6c-d4542f775cb2",
     "prev": "5348969b-2172-4189-9c89-dd652f448702",
     "regions": {
      "fae0c150-1ec2-4d20-a5a2-1b59c9d98f52": {
       "attrs": {
        "height": 0.8,
        "width": 0.8,
        "x": 0.1,
        "y": 0.1
       },
       "content": {
        "cell": "c9ea6960-cbd3-4ff8-9719-f105a1f2de1d",
        "part": "whole"
       },
       "id": "fae0c150-1ec2-4d20-a5a2-1b59c9d98f52"
      }
     }
    },
    "7bdcba30-285c-49b2-a380-a1b20cd56add": {
     "id": "7bdcba30-285c-49b2-a380-a1b20cd56add",
     "prev": "da0c4b94-4d2c-4c45-b012-1d3c02c3d00a",
     "regions": {
      "d720085e-60fd-4a67-aa3f-ae9ec1dba3e2": {
       "attrs": {
        "height": 0.8,
        "width": 0.8,
        "x": 0.1,
        "y": 0.1
       },
       "content": {
        "cell": "5a0d6388-58bb-4b72-b9c0-099c700d13f1",
        "part": "whole"
       },
       "id": "d720085e-60fd-4a67-aa3f-ae9ec1dba3e2"
      }
     }
    },
    "7e585338-536e-4c8b-88d2-742b91219038": {
     "id": "7e585338-536e-4c8b-88d2-742b91219038",
     "prev": "bc828a64-ebff-4ba5-87a3-579ce9eeb186",
     "regions": {
      "e8fe9aa3-8a5d-4c1c-965a-0df96cf5cd2e": {
       "attrs": {
        "height": 0.8,
        "width": 0.8,
        "x": 0.1,
        "y": 0.1
       },
       "content": {
        "cell": "4d805939-15ec-47d7-8f45-7ea4da1c42c3",
        "part": "whole"
       },
       "id": "e8fe9aa3-8a5d-4c1c-965a-0df96cf5cd2e"
      }
     }
    },
    "8430a9a9-d5bc-4de8-8881-c46bedfb70ae": {
     "id": "8430a9a9-d5bc-4de8-8881-c46bedfb70ae",
     "prev": "e8aeef4d-996e-425c-b9d6-b665a4815efd",
     "regions": {
      "3e27ad92-292e-41f9-9e62-d60acc7febd9": {
       "attrs": {
        "height": 0.8,
        "width": 0.8,
        "x": 0.1,
        "y": 0.1
       },
       "content": {
        "cell": "a0af61d0-cc6a-4aba-bdba-0f2c7d9ab99c",
        "part": "whole"
       },
       "id": "3e27ad92-292e-41f9-9e62-d60acc7febd9"
      }
     }
    },
    "8ef12234-dea5-4a64-ba3a-c3a64dca1cbe": {
     "id": "8ef12234-dea5-4a64-ba3a-c3a64dca1cbe",
     "prev": "8f65101f-c222-40de-bc57-932879b34de0",
     "regions": {
      "fbb743ed-5c48-4afc-ba80-154aa0fc3802": {
       "attrs": {
        "height": 0.8,
        "width": 0.8,
        "x": 0.1,
        "y": 0.1
       },
       "content": {
        "cell": "e062cdb3-6227-4694-981e-37f7acce08c9",
        "part": "whole"
       },
       "id": "fbb743ed-5c48-4afc-ba80-154aa0fc3802"
      }
     }
    },
    "8f65101f-c222-40de-bc57-932879b34de0": {
     "id": "8f65101f-c222-40de-bc57-932879b34de0",
     "prev": "7e585338-536e-4c8b-88d2-742b91219038",
     "regions": {
      "035b5a83-1961-4aa0-a93b-ad24d4cf5a30": {
       "attrs": {
        "height": 0.8,
        "width": 0.8,
        "x": 0.1,
        "y": 0.1
       },
       "content": {
        "cell": "a39cd83e-eaea-4746-9b8a-0820bc5f53b1",
        "part": "whole"
       },
       "id": "035b5a83-1961-4aa0-a93b-ad24d4cf5a30"
      }
     }
    },
    "941e3bb1-c3c9-43f7-95c7-a82c2c6c7c60": {
     "id": "941e3bb1-c3c9-43f7-95c7-a82c2c6c7c60",
     "prev": "e89ddb1f-0cb3-4f3d-9c4e-a4c12763abfe",
     "regions": {
      "ea9fd193-4bed-4409-b9c0-bdda60964d60": {
       "attrs": {
        "height": 0.8,
        "width": 0.8,
        "x": 0.1,
        "y": 0.1
       },
       "content": {
        "cell": "6e185143-21d6-4184-bfff-4b88687fe7fd",
        "part": "whole"
       },
       "id": "ea9fd193-4bed-4409-b9c0-bdda60964d60"
      }
     }
    },
    "b0fb1b7c-6ef5-4a88-8ac1-a5bb6df7a23a": {
     "id": "b0fb1b7c-6ef5-4a88-8ac1-a5bb6df7a23a",
     "prev": "2c94fed0-3ee5-4803-871c-bb48bcd07bd4",
     "regions": {
      "a0532952-bc9f-493a-a6b4-8b0784a4c7c9": {
       "attrs": {
        "height": 0.8,
        "width": 0.8,
        "x": 0.1,
        "y": 0.1
       },
       "content": {
        "cell": "5ffabf32-bf76-4d89-bf5a-c0a3eab352af",
        "part": "whole"
       },
       "id": "a0532952-bc9f-493a-a6b4-8b0784a4c7c9"
      }
     }
    },
    "bc828a64-ebff-4ba5-87a3-579ce9eeb186": {
     "id": "bc828a64-ebff-4ba5-87a3-579ce9eeb186",
     "prev": "43930c45-0359-4df2-a449-ffc2f45b17dd",
     "regions": {
      "58a0becc-840c-4157-af47-6bfe5daf4756": {
       "attrs": {
        "height": 0.8,
        "width": 0.8,
        "x": 0.1,
        "y": 0.1
       },
       "content": {
        "cell": "9361b466-db99-45ce-abf6-7ced95fcf1e7",
        "part": "whole"
       },
       "id": "58a0becc-840c-4157-af47-6bfe5daf4756"
      }
     }
    },
    "bcab738a-b488-4823-9c50-e3e5004b53ea": {
     "id": "bcab738a-b488-4823-9c50-e3e5004b53ea",
     "prev": "6c5c2404-5fd8-41de-b780-6cec254dca7c",
     "regions": {
      "3098bc39-3d36-4bcd-8d48-e1c22f17e94d": {
       "attrs": {
        "height": 0.8,
        "width": 0.8,
        "x": 0.1,
        "y": 0.1
       },
       "content": {
        "cell": "52fd8b41-ed49-49be-8364-1fe32872a868",
        "part": "whole"
       },
       "id": "3098bc39-3d36-4bcd-8d48-e1c22f17e94d"
      }
     }
    },
    "c279c79a-d219-4ef1-aa0d-20552dba39eb": {
     "id": "c279c79a-d219-4ef1-aa0d-20552dba39eb",
     "prev": "8ef12234-dea5-4a64-ba3a-c3a64dca1cbe",
     "regions": {
      "f1e4b733-d126-458e-a863-d5f58ba7f4e1": {
       "attrs": {
        "height": 0.8,
        "width": 0.8,
        "x": 0.1,
        "y": 0.1
       },
       "content": {
        "cell": "8ff97da6-b469-4893-b885-1501407345a0",
        "part": "whole"
       },
       "id": "f1e4b733-d126-458e-a863-d5f58ba7f4e1"
      }
     }
    },
    "c7d6f95d-68ce-43d2-96e8-d8985e1ff974": {
     "id": "c7d6f95d-68ce-43d2-96e8-d8985e1ff974",
     "prev": "b0fb1b7c-6ef5-4a88-8ac1-a5bb6df7a23a",
     "regions": {
      "11501c59-309f-446d-b131-f48be9bf3463": {
       "attrs": {
        "height": 0.8,
        "width": 0.8,
        "x": 0.1,
        "y": 0.1
       },
       "content": {
        "cell": "6f9da688-e535-4330-aa1a-40a175f3cb71",
        "part": "whole"
       },
       "id": "11501c59-309f-446d-b131-f48be9bf3463"
      }
     }
    },
    "ce955336-3a9b-4586-bc64-31f4617f4e06": {
     "id": "ce955336-3a9b-4586-bc64-31f4617f4e06",
     "prev": "009837e3-addf-44a2-a08c-c30d90065e0a",
     "regions": {
      "a16e46bd-70c4-4fb9-a380-d7ea0a28059c": {
       "attrs": {
        "height": 0.8,
        "width": 0.8,
        "x": 0.1,
        "y": 0.1
       },
       "content": {
        "cell": "d338991f-1668-4603-b2ec-e3859e11499d",
        "part": "whole"
       },
       "id": "a16e46bd-70c4-4fb9-a380-d7ea0a28059c"
      }
     }
    },
    "d5bdec55-795f-4381-8196-7942777e289f": {
     "id": "d5bdec55-795f-4381-8196-7942777e289f",
     "prev": "8430a9a9-d5bc-4de8-8881-c46bedfb70ae",
     "regions": {
      "1e5a5b9b-818c-42b3-9480-47b1471fef75": {
       "attrs": {
        "height": 0.8,
        "width": 0.8,
        "x": 0.1,
        "y": 0.1
       },
       "content": {
        "cell": "04e3b4d3-f98a-43d3-8c20-128a258bc077",
        "part": "whole"
       },
       "id": "1e5a5b9b-818c-42b3-9480-47b1471fef75"
      }
     }
    },
    "d65f8f7b-c036-4613-ac6b-fbdfa48c44c9": {
     "id": "d65f8f7b-c036-4613-ac6b-fbdfa48c44c9",
     "prev": "3617b6cf-bfb5-49f7-9113-edb57d0f0eb2",
     "regions": {
      "b7e904b9-c74e-4cc9-bba9-4a1ce217e702": {
       "attrs": {
        "height": 0.8,
        "width": 0.8,
        "x": 0.1,
        "y": 0.1
       },
       "content": {
        "cell": "7c33bd89-1739-4d7f-8167-920b4fed737b",
        "part": "whole"
       },
       "id": "b7e904b9-c74e-4cc9-bba9-4a1ce217e702"
      }
     }
    },
    "da0c4b94-4d2c-4c45-b012-1d3c02c3d00a": {
     "id": "da0c4b94-4d2c-4c45-b012-1d3c02c3d00a",
     "prev": "feee768e-3a88-49f6-93d4-afd8a8ed747e",
     "regions": {
      "57dc3718-a1b7-43c8-a8ab-3aebe3ece133": {
       "attrs": {
        "height": 0.8,
        "width": 0.8,
        "x": 0.1,
        "y": 0.1
       },
       "content": {
        "cell": "e4d9ca7d-8751-4f2a-9077-7d427db65c8e",
        "part": "whole"
       },
       "id": "57dc3718-a1b7-43c8-a8ab-3aebe3ece133"
      }
     }
    },
    "e1029079-2b6f-4040-bf4f-df8c247dbcf8": {
     "id": "e1029079-2b6f-4040-bf4f-df8c247dbcf8",
     "prev": "941e3bb1-c3c9-43f7-95c7-a82c2c6c7c60",
     "regions": {
      "fed184d0-c093-42bf-ab2d-bc9f5d9651b1": {
       "attrs": {
        "height": 0.8,
        "width": 0.8,
        "x": 0.1,
        "y": 0.1
       },
       "content": {
        "cell": "cb32a341-91f6-4595-b518-0031202597b9",
        "part": "whole"
       },
       "id": "fed184d0-c093-42bf-ab2d-bc9f5d9651b1"
      }
     }
    },
    "e7fbcae0-1e27-424f-b807-7b49c5f0bb2d": {
     "id": "e7fbcae0-1e27-424f-b807-7b49c5f0bb2d",
     "prev": "642c79e2-a0f2-42d2-9dcb-69a0e924dd12",
     "regions": {
      "61e89d47-bf2e-44c1-af1e-939cdd9d3e2a": {
       "attrs": {
        "height": 0.8,
        "width": 0.8,
        "x": 0.1,
        "y": 0.1
       },
       "content": {
        "cell": "5afd30f4-1042-4e94-863e-eb874e73729b",
        "part": "whole"
       },
       "id": "61e89d47-bf2e-44c1-af1e-939cdd9d3e2a"
      }
     }
    },
    "e89ddb1f-0cb3-4f3d-9c4e-a4c12763abfe": {
     "id": "e89ddb1f-0cb3-4f3d-9c4e-a4c12763abfe",
     "prev": "271178f4-f397-4d55-b14e-305ecbc6aec4",
     "regions": {
      "3b82898b-6600-4aa3-b7ad-8fb2520c93d5": {
       "attrs": {
        "height": 0.8,
        "width": 0.8,
        "x": 0.1,
        "y": 0.1
       },
       "content": {
        "cell": "a9b85a9b-0633-4cd9-aab1-222f09df15d3",
        "part": "whole"
       },
       "id": "3b82898b-6600-4aa3-b7ad-8fb2520c93d5"
      }
     }
    },
    "e8aeef4d-996e-425c-b9d6-b665a4815efd": {
     "id": "e8aeef4d-996e-425c-b9d6-b665a4815efd",
     "prev": "376e8acd-692c-4179-b06d-3827df6c7c2e",
     "regions": {
      "aa261d20-de73-4608-a240-fe3eb43309ed": {
       "attrs": {
        "height": 0.8,
        "width": 0.8,
        "x": 0.1,
        "y": 0.1
       },
       "content": {
        "cell": "d5f54317-464b-41a9-b066-a9114fad9c4c",
        "part": "whole"
       },
       "id": "aa261d20-de73-4608-a240-fe3eb43309ed"
      }
     }
    },
    "ebd44fdb-b3e3-4ed3-bdd5-6b399572c4dd": {
     "id": "ebd44fdb-b3e3-4ed3-bdd5-6b399572c4dd",
     "prev": "7bdcba30-285c-49b2-a380-a1b20cd56add",
     "regions": {
      "e0b9c17f-4fdd-405c-98d6-9f5e3fb51aa4": {
       "attrs": {
        "height": 0.8,
        "width": 0.8,
        "x": 0.1,
        "y": 0.1
       },
       "content": {
        "cell": "dccb8827-1ca0-49e9-9220-455bce923728",
        "part": "whole"
       },
       "id": "e0b9c17f-4fdd-405c-98d6-9f5e3fb51aa4"
      }
     }
    },
    "f71a9548-4787-4129-8563-b940466e83d5": {
     "id": "f71a9548-4787-4129-8563-b940466e83d5",
     "prev": "bcab738a-b488-4823-9c50-e3e5004b53ea",
     "regions": {
      "036ca937-c7a4-4564-8597-024f3a7bb86d": {
       "attrs": {
        "height": 0.8,
        "width": 0.8,
        "x": 0.1,
        "y": 0.1
       },
       "content": {
        "cell": "9f84cd1f-d8f3-4056-bf74-ea77acb3b277",
        "part": "whole"
       },
       "id": "036ca937-c7a4-4564-8597-024f3a7bb86d"
      }
     }
    },
    "feee768e-3a88-49f6-93d4-afd8a8ed747e": {
     "id": "feee768e-3a88-49f6-93d4-afd8a8ed747e",
     "prev": "15f4edd6-5bc3-4f1e-8a23-f4089d6b7e4a",
     "regions": {
      "80cdb0a9-0ca4-4883-bfa1-87579b637d5e": {
       "attrs": {
        "height": 0.8,
        "width": 0.8,
        "x": 0.1,
        "y": 0.1
       },
       "content": {
        "cell": "de383966-34a6-4bd0-ad9f-57c01d9712c5",
        "part": "whole"
       },
       "id": "80cdb0a9-0ca4-4883-bfa1-87579b637d5e"
      }
     }
    },
    "ff717883-6334-4743-8898-7c038d1adab6": {
     "id": "ff717883-6334-4743-8898-7c038d1adab6",
     "prev": "3d850da8-f42b-4108-a900-e088d63b1dc8",
     "regions": {
      "9c3ce2bd-3ac3-47d6-8f39-163d1c73bb5b": {
       "attrs": {
        "height": 0.8,
        "width": 0.8,
        "x": 0.1,
        "y": 0.1
       },
       "content": {
        "cell": "a0050794-d512-4f25-ac70-6cb39f1b1d4c",
        "part": "whole"
       },
       "id": "9c3ce2bd-3ac3-47d6-8f39-163d1c73bb5b"
      }
     }
    }
   },
   "themes": {}
  }
 },
 "nbformat": 4,
 "nbformat_minor": 1
}
